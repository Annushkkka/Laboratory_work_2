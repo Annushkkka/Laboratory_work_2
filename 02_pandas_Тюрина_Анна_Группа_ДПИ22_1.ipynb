{
  "cells": [
    {
      "cell_type": "markdown",
      "metadata": {
        "id": "FsKrBwI0DjyF"
      },
      "source": [
        "# Pandas"
      ]
    },
    {
      "cell_type": "markdown",
      "metadata": {
        "id": "jFoq9WXnDjyN"
      },
      "source": [
        "## Лабораторная работа №2"
      ]
    },
    {
      "cell_type": "markdown",
      "metadata": {
        "id": "1gDEODNDDjyN"
      },
      "source": [
        "### Базовые операции с `DataFrame`"
      ]
    },
    {
      "cell_type": "markdown",
      "metadata": {
        "id": "HIKKY44SDjyN"
      },
      "source": [
        "1.1 В файлах `recipes_sample.csv` и `reviews_sample.csv` находится информация об рецептах блюд и отзывах на эти рецепты соответственно. Загрузите данные из файлов в виде `pd.DataFrame` с названиями `recipes` и `reviews`. Обратите внимание на корректное считывание столбца с индексами в таблице `reviews` (безымянный столбец)."
      ]
    },
    {
      "cell_type": "code",
      "execution_count": null,
      "metadata": {
        "id": "jpup10F7DjyO"
      },
      "outputs": [],
      "source": [
        "import pandas as pd\n",
        "\n",
        "recipes = pd.read_csv('data/recipes_sample.csv')\n",
        "reviews = pd.read_csv('data/reviews_sample.csv', index_col=0)"
      ]
    },
    {
      "cell_type": "markdown",
      "metadata": {
        "id": "q6PoYEGhDjyP"
      },
      "source": [
        "1.2 Для каждой из таблиц выведите основные параметры:\n",
        "* количество точек данных (строк);\n",
        "* количество столбцов;\n",
        "* тип данных каждого столбца."
      ]
    },
    {
      "cell_type": "code",
      "execution_count": null,
      "metadata": {
        "id": "icaQCMDCDjyP"
      },
      "outputs": [],
      "source": [
        "# For the recipes table:\n",
        "print(\"Recipes table:\")\n",
        "print(\"Number of rows:\", recipes.shape[0])\n",
        "print(\"Number of columns:\", recipes.shape[1])\n",
        "print(\"Data types:\")\n",
        "print(recipes.dtypes)\n",
        "\n",
        "# For the reviews table:\n",
        "print(\"\\nReviews table:\")\n",
        "print(\"Number of rows:\", reviews.shape[0])\n",
        "print(\"Number of columns:\", reviews.shape[1])\n",
        "print(\"Data types:\")\n",
        "print(reviews.dtypes)"
      ]
    },
    {
      "cell_type": "markdown",
      "metadata": {
        "id": "kBfcjcznDjyQ"
      },
      "source": [
        "1.3 Исследуйте, в каких столбцах таблиц содержатся пропуски. Посчитайте долю строк, содержащих пропуски, в отношении к общему количеству строк."
      ]
    },
    {
      "cell_type": "code",
      "execution_count": null,
      "metadata": {
        "id": "NykoNu93DjyQ"
      },
      "outputs": [],
      "source": [
        "# For the recipes table:\n",
        "print(\"Recipes table:\")\n",
        "for col in recipes.columns:\n",
        "    if recipes[col].isna().sum() > 0:\n",
        "        print(f\"Column {col} has {recipes[col].isna().mean():.2%} missing values.\")\n",
        "    else:\n",
        "        print(f\"Column {col} has no missing values.\")\n",
        "\n",
        "# For the reviews table:\n",
        "print(\"\\nReviews table:\")\n",
        "for col in reviews.columns:\n",
        "    if reviews[col].isna().sum() > 0:\n",
        "        print(f\"Column {col} has {reviews[col].isna().mean():.2%} missing values.\")\n",
        "    else:\n",
        "        print(f\"Column {col} has no missing values.\")"
      ]
    },
    {
      "cell_type": "markdown",
      "metadata": {
        "id": "rs-YNoSkDjyR"
      },
      "source": [
        "1.4 Рассчитайте среднее значение для каждого из числовых столбцов (где это имеет смысл)."
      ]
    },
    {
      "cell_type": "code",
      "execution_count": null,
      "metadata": {
        "id": "X_epauDbDjyR"
      },
      "outputs": [],
      "source": [
        "# For the recipes table:\n",
        "numeric_cols = recipes.select_dtypes(include=['int64', 'float64']).columns.drop(['id', 'contributor_id'])\n",
        "print(\"Recipes table:\")\n",
        "for col in numeric_cols:\n",
        "    print(f\"Average value for {col}: {recipes[col].mean()}\")\n",
        "\n",
        "# For the reviews table:\n",
        "numeric_cols = reviews.select_dtypes(include=['int64', 'float64']).columns.drop(['user_id', 'recipe_id'])\n",
        "print(\"\\nReviews table:\")\n",
        "for col in numeric_cols:\n",
        "    print(f\"Average value for {col}: {reviews[col].mean()}\")"
      ]
    },
    {
      "cell_type": "markdown",
      "metadata": {
        "id": "2VeR5tCQDjyS"
      },
      "source": [
        "1.5 Создайте серию из 10 случайных названий рецептов."
      ]
    },
    {
      "cell_type": "code",
      "execution_count": null,
      "metadata": {
        "id": "93m4m8WSDjyS"
      },
      "outputs": [],
      "source": [
        "import numpy as np\n",
        "\n",
        "# Create a series of 10 random recipe names\n",
        "random_names = recipes['name'].sample(n=10)\n",
        "print(random_names)"
      ]
    },
    {
      "cell_type": "markdown",
      "metadata": {
        "id": "q_DSsSQPDjyS"
      },
      "source": [
        "1.6 Измените индекс в таблице `reviews`, пронумеровав строки, начиная с нуля."
      ]
    },
    {
      "cell_type": "code",
      "execution_count": null,
      "metadata": {
        "id": "WdkcHceMDjyS"
      },
      "outputs": [],
      "source": [
        "# Change the index in the reviews table\n",
        "reviews = reviews.reset_index(drop=True)\n",
        "print(reviews.head())"
      ]
    },
    {
      "cell_type": "markdown",
      "metadata": {
        "id": "FWUJK-KqDjyT"
      },
      "source": [
        "1.7 Выведите информацию о рецептах, время выполнения которых не больше 20 минут и кол-во ингредиентов в которых не больше 5."
      ]
    },
    {
      "cell_type": "code",
      "execution_count": null,
      "metadata": {
        "id": "CjKa8IEMDjyT"
      },
      "outputs": [],
      "source": [
        "# Filter recipes that take no more than 20 minutes and have no more than 5 ingredients\n",
        "quick_and_easy = recipes[(recipes['minutes'] <= 20) & (recipes['n_ingredients'] <= 5)]\n",
        "print(quick_and_easy[['name', 'minutes', 'n_ingredients']])"
      ]
    },
    {
      "cell_type": "markdown",
      "metadata": {
        "id": "y2w6aT7tDjyT"
      },
      "source": [
        "### Работа с датами в `pandas`"
      ]
    },
    {
      "cell_type": "markdown",
      "metadata": {
        "id": "c9pbFQAYDjyT"
      },
      "source": [
        "2.1 Преобразуйте столбец `submitted` из таблицы `recipes` в формат времени. Модифицируйте решение задачи 1.1 так, чтобы считать столбец сразу в нужном формате."
      ]
    },
    {
      "cell_type": "code",
      "execution_count": null,
      "metadata": {
        "id": "FTQMWXHgDjyT"
      },
      "outputs": [],
      "source": [
        "# Load data with 'submitted' column as datetime\n",
        "recipes = pd.read_csv('data/recipes_sample.csv', parse_dates=['submitted'])\n",
        "print(recipes.info())"
      ]
    },
    {
      "cell_type": "markdown",
      "metadata": {
        "id": "kqwWKX8hDjyU"
      },
      "source": [
        "2.2 Выведите информацию о рецептах, добавленных в датасет не позже 2010 года."
      ]
    },
    {
      "cell_type": "code",
      "execution_count": null,
      "metadata": {
        "id": "ogc0n9qlDjyU"
      },
      "outputs": [],
      "source": [
        "# Filter recipes added to the dataset no later than 2010\n",
        "old_recipes = recipes[recipes['submitted'].dt.year <= 2010]\n",
        "print(old_recipes[['name', 'submitted']])"
      ]
    },
    {
      "cell_type": "markdown",
      "metadata": {
        "id": "nnNJfG2rDjyU"
      },
      "source": [
        "### Работа со строковыми данными в `pandas`"
      ]
    },
    {
      "cell_type": "markdown",
      "metadata": {
        "id": "ONqSEsBZDjyU"
      },
      "source": [
        "3.1  Добавьте в таблицу `recipes` столбец `description_length`, в котором хранится длина описания рецепта из столбца `description`."
      ]
    },
    {
      "cell_type": "code",
      "execution_count": null,
      "metadata": {
        "id": "pl-E3GWPDjyU"
      },
      "outputs": [],
      "source": [
        "recipes['description_length'] = recipes['description'].str.len()\n",
        "print(recipes.head())"
      ]
    },
    {
      "cell_type": "markdown",
      "metadata": {
        "id": "xFmW1liXDjyV"
      },
      "source": [
        "3.2 Измените название каждого рецепта в таблице `recipes` таким образом, чтобы каждое слово в названии начиналось с прописной буквы."
      ]
    },
    {
      "cell_type": "code",
      "execution_count": null,
      "metadata": {
        "id": "E7-jiyErDjyV"
      },
      "outputs": [],
      "source": [
        "recipes['name'] = recipes['name'].str.title()\n",
        "print(recipes.head())"
      ]
    },
    {
      "cell_type": "markdown",
      "metadata": {
        "id": "jvzjiuCmDjyV"
      },
      "source": [
        "3.3 Добавьте в таблицу `recipes` столбец `name_word_count`, в котором хранится количество слов из названии рецепта (считайте, что слова в названии разделяются только пробелами). Обратите внимание, что между словами может располагаться несколько пробелов подряд."
      ]
    },
    {
      "cell_type": "code",
      "execution_count": null,
      "metadata": {
        "id": "_ipi0bCcDjyV"
      },
      "outputs": [],
      "source": [
        "recipes['name_word_count'] = recipes['name'].str.split().str.len()\n",
        "print(recipes.head())"
      ]
    },
    {
      "cell_type": "markdown",
      "metadata": {
        "id": "MIUs3KRnDjyV"
      },
      "source": [
        "### Группировки таблиц `pd.DataFrame`"
      ]
    },
    {
      "cell_type": "markdown",
      "metadata": {
        "id": "QH3Ma9qBDjyW"
      },
      "source": [
        "4.1 Посчитайте количество рецептов, представленных каждым из участников (`contributor_id`). Какой участник добавил максимальное кол-во рецептов?"
      ]
    },
    {
      "cell_type": "code",
      "execution_count": null,
      "metadata": {
        "id": "qAiRqfeyDjyW"
      },
      "outputs": [],
      "source": [
        "# Count the number of recipes submitted by each contributor\n",
        "recipe_counts = recipes['contributor_id'].value_counts()\n",
        "\n",
        "# Determine which contributor added the maximum number of recipes\n",
        "max_contributor = recipe_counts.idxmax()\n",
        "\n",
        "# Output the resulting information\n",
        "print(\"Number of recipes submitted by each contributor:\\n\")\n",
        "print(recipe_counts)\n",
        "print(\"\\nContributor who added the most recipes: {}\\n\".format(max_contributor))"
      ]
    },
    {
      "cell_type": "markdown",
      "metadata": {
        "id": "d0GPvdV3DjyW"
      },
      "source": [
        "4.2 Посчитайте средний рейтинг к каждому из рецептов. Для скольких рецептов отсутствуют отзывы? Обратите внимание, что отзыв с нулевым рейтингом или не заполненным текстовым описанием не считается отсутствующим."
      ]
    },
    {
      "cell_type": "code",
      "execution_count": null,
      "metadata": {
        "id": "f45OR8xjDjyW"
      },
      "outputs": [],
      "source": [
        "# Calculate the average rating for each recipe\n",
        "avg_ratings = reviews.groupby('recipe_id')['rating'].mean()\n",
        "\n",
        "# Count the number of recipes with missing reviews\n",
        "missing_reviews = recipes['id'].nunique() - avg_ratings.count()\n",
        "\n",
        "# Output the resulting information\n",
        "print(\"Average rating for each recipe:\\n\")\n",
        "print(avg_ratings)\n",
        "print(\"\\nNumber of recipes with missing reviews: {}\\n\".format(missing_reviews))"
      ]
    },
    {
      "cell_type": "markdown",
      "metadata": {
        "id": "HzyIk_SjDjyW"
      },
      "source": [
        "4.3 Посчитайте количество рецептов с разбивкой по годам создания."
      ]
    },
    {
      "cell_type": "code",
      "execution_count": null,
      "metadata": {
        "id": "NKLgOlAHDjyX"
      },
      "outputs": [],
      "source": [
        "# Count the number of recipes by year of creation\n",
        "recipes_by_year = recipes.groupby(recipes['submitted'].dt.year).size()\n",
        "\n",
        "# Output the resulting information\n",
        "print(\"Number of recipes by year of creation:\\n\")\n",
        "print(recipes_by_year)"
      ]
    },
    {
      "cell_type": "markdown",
      "metadata": {
        "id": "K99XnCbKDjyX"
      },
      "source": [
        "### Объединение таблиц `pd.DataFrame`"
      ]
    },
    {
      "cell_type": "markdown",
      "metadata": {
        "id": "bQ2AbRqsDjyX"
      },
      "source": [
        "5.1 При помощи объединения таблиц, создайте `DataFrame`, состоящий из четырех столбцов: `id`, `name`, `user_id`, `rating`. Рецепты, на которые не оставлен ни один отзыв, должны отсутствовать в полученной таблице. Подтвердите правильность работы вашего кода, выбрав рецепт, не имеющий отзывов, и попытавшись найти строку, соответствующую этому рецепту, в полученном `DataFrame`."
      ]
    },
    {
      "cell_type": "code",
      "execution_count": null,
      "metadata": {
        "id": "YMaPYwURDjyX"
      },
      "outputs": [],
      "source": [
        "# Merge recipes and reviews dataframes on 'id' and 'recipe_id' columns\n",
        "merged = pd.merge(recipes[['id', 'name']], reviews[['recipe_id', 'user_id', 'rating']], left_on='id', right_on='recipe_id')\n",
        "\n",
        "# Drop the 'recipe_id' column\n",
        "merged.drop('recipe_id', axis=1, inplace=True)\n",
        "\n",
        "# Output the resulting dataframe\n",
        "print(merged)"
      ]
    },
    {
      "cell_type": "code",
      "execution_count": null,
      "metadata": {
        "id": "jOf1Q4TlDjyX"
      },
      "outputs": [],
      "source": [
        "# если у рецепта нет отзывов, он не появится в результирующей матрице данных\n",
        "no_reviews_recipe = recipes[recipes['id'] == 222261]\n",
        "\n",
        "# Check if the recipe is present in the merged dataframe\n",
        "print(merged[merged['id'] == 222261])"
      ]
    },
    {
      "cell_type": "markdown",
      "metadata": {
        "id": "EeVNP8okDjyY"
      },
      "source": [
        "5.2 При помощи объединения таблиц и группировок, создайте `DataFrame`, состоящий из трех столбцов: `recipe_id`, `name`, `review_count`, где столбец `review_count` содержит кол-во отзывов, оставленных на рецепт `recipe_id`. У рецептов, на которые не оставлен ни один отзыв, в столбце `review_count` должен быть указан 0. Подтвердите правильность работы вашего кода, выбрав рецепт, не имеющий отзывов, и найдя строку, соответствующую этому рецепту, в полученном `DataFrame`."
      ]
    },
    {
      "cell_type": "code",
      "execution_count": null,
      "metadata": {
        "id": "ZlhPeY_vDjyY"
      },
      "outputs": [],
      "source": [
        "# Merge recipes and reviews dataframes on 'id' and 'recipe_id' columns\n",
        "merged = pd.merge(recipes[['id', 'name']], reviews[['recipe_id']], left_on='id', right_on='recipe_id')\n",
        "\n",
        "# Group by 'recipe_id' and count the number of reviews for each recipe\n",
        "review_counts = merged.groupby('recipe_id')['recipe_id'].count()\n",
        "\n",
        "# Create a new dataframe with 'recipe_id', 'name', and 'review_count' columns\n",
        "recipe_review_counts = pd.DataFrame({'recipe_id': review_counts.index, 'review_count': review_counts.values})\n",
        "\n",
        "# Merge the new dataframe with the 'recipes' dataframe on 'id' column to get the recipe names\n",
        "recipe_review_counts = pd.merge(recipe_review_counts, recipes[['id', 'name']], left_on='recipe_id', right_on='id')\n",
        "\n",
        "# Drop the 'id' and 'recipe_id' columns\n",
        "recipe_review_counts.drop(['id', 'recipe_id'], axis=1, inplace=True)\n",
        "\n",
        "# Set the index to be the 'name' column\n",
        "recipe_review_counts.set_index('name', inplace=True)\n",
        "\n",
        "# Output the resulting dataframe\n",
        "print(recipe_review_counts)"
      ]
    },
    {
      "cell_type": "code",
      "execution_count": null,
      "metadata": {
        "id": "KEXoayaaDjyY"
      },
      "outputs": [],
      "source": [
        "# Select a recipe with no reviews\n",
        "no_reviews_recipe = recipes[recipes['id'] == 222261]\n",
        "\n",
        "# Check if the recipe is present in the recipe_review_counts dataframe\n",
        "print(recipe_review_counts.loc[no_reviews_recipe['name']])"
      ]
    },
    {
      "cell_type": "markdown",
      "metadata": {
        "id": "FccRR2KwDjyY"
      },
      "source": [
        "5.3. Выясните, рецепты, добавленные в каком году, имеют наименьший средний рейтинг?"
      ]
    },
    {
      "cell_type": "code",
      "execution_count": null,
      "metadata": {
        "id": "BgHtbESsDjyY"
      },
      "outputs": [],
      "source": [
        "# Merge recipes and reviews dataframes on 'id' and 'recipe_id' columns\n",
        "merged = pd.merge(recipes[['id', 'name', 'submitted']], reviews[['recipe_id', 'rating']], left_on='id', right_on='recipe_id')\n",
        "\n",
        "# Group by year and recipe and calculate the mean rating\n",
        "grouped = merged.groupby([merged['submitted'].dt.year, 'name'])['rating'].mean()\n",
        "\n",
        "# Find the year and recipe with the lowest average rating\n",
        "lowest_rating = grouped.idxmin()\n",
        "\n",
        "# Output the resulting information\n",
        "print(\"Year and recipe with the lowest average rating: {}\\n\".format(lowest_rating))"
      ]
    },
    {
      "cell_type": "markdown",
      "metadata": {
        "id": "-dFdq1NrDjyZ"
      },
      "source": [
        "### Сохранение таблиц `pd.DataFrame`"
      ]
    },
    {
      "cell_type": "markdown",
      "metadata": {
        "id": "Vy_Dh9nXDjyZ"
      },
      "source": [
        "6.1 Отсортируйте таблицу в порядке убывания величины столбца `name_word_count` и сохраните результаты выполнения заданий 3.1-3.3 в csv файл. "
      ]
    },
    {
      "cell_type": "code",
      "execution_count": null,
      "metadata": {
        "id": "Lw1nSUNhDjyZ"
      },
      "outputs": [],
      "source": [
        "# Add a 'description_length' column to the 'recipes' dataframe\n",
        "recipes['description_length'] = recipes['description'].apply(lambda x: len(str(x).split()))\n",
        "\n",
        "# Change the name of each recipe so that each word starts with a capital letter\n",
        "recipes['name'] = recipes['name'].apply(lambda x: x.title())\n",
        "\n",
        "# Add a 'name_word_count' column to the 'recipes' dataframe\n",
        "recipes['name_word_count'] = recipes['name'].apply(lambda x: len(str(x).split()))\n",
        "\n",
        "# Sort the 'recipes' dataframe in descending order of the 'name_word_count' column\n",
        "recipes_sorted = recipes.sort_values(by='name_word_count', ascending=False)\n",
        "\n",
        "# Save the 'recipes' dataframe to a csv file\n",
        "recipes_sorted.to_csv('recipes_sorted.csv', index=False)"
      ]
    },
    {
      "cell_type": "code",
      "execution_count": null,
      "metadata": {
        "id": "AGTl2OlYDjyZ"
      },
      "outputs": [],
      "source": [
        "# Add a 'description_length' column to the 'recipes' dataframe\n",
        "recipes['description_length'] = recipes['description'].apply(lambda x: len(str(x).split()))\n",
        "\n",
        "# Change the name of each recipe so that each word starts with a capital letter\n",
        "recipes['name'] = recipes['name'].apply(lambda x: x.title())\n",
        "\n",
        "# Add a 'name_word_count' column to the 'recipes' dataframe\n",
        "recipes['name_word_count'] = recipes['name'].apply(lambda x: len(str(x).split()))\n",
        "\n",
        "# Sort the 'recipes' dataframe in descending order of the 'name_word_count' column\n",
        "recipes_sorted = recipes.sort_values(by='name_word_count', ascending=False)\n",
        "\n",
        "# Output information about recipes that take no more than 20 minutes and have no more than 5 ingredients\n",
        "quick_and_simple_recipes = recipes[(recipes['minutes'] <= 20) & (recipes['n_ingredients'] <= 5)]\n",
        "quick_and_simple_recipes.to_csv('recipes_sorted.csv', mode='a', index=False, header=False)\n",
        "\n",
        "# Change the name of each recipe so that each word starts with a capital letter\n",
        "recipes['name'] = recipes['name'].apply(lambda x: x.title())\n",
        "\n",
        "# Add a 'name_word_count' column to the 'recipes' dataframe\n",
        "recipes['name_word_count'] = recipes['name'].apply(lambda x: len(str(x).split()))\n",
        "\n",
        "# Save the 'recipes' dataframe to a csv file\n",
        "recipes.to_csv('recipes_sorted.csv', mode='a', index=False, header=False)\n",
        "\n",
        "# Output the resulting information\n",
        "print(\"Quick and simple recipes:\\n\")\n",
        "print(quick_and_simple_recipes)"
      ]
    },
    {
      "cell_type": "markdown",
      "metadata": {
        "id": "xx6GCBXnDjyZ"
      },
      "source": [
        "6.2 Воспользовавшись `pd.ExcelWriter`, cохраните результаты 5.1 и 5.2 в файл: на лист с названием `Рецепты с оценками` сохраните результаты выполнения 5.1; на лист с названием `Количество отзывов по рецептам` сохраните результаты выполнения 5.2."
      ]
    },
    {
      "cell_type": "code",
      "execution_count": null,
      "metadata": {
        "id": "Dr4QUah6Djya"
      },
      "outputs": [],
      "source": [
        "# Merge the 'recipes' and 'reviews' dataframes on 'id' and 'recipe_id'\n",
        "merged = pd.merge(recipes[['id', 'name', 'contributor_id']], reviews[['recipe_id', 'user_id', 'rating']], left_on='id', right_on='recipe_id')\n",
        "\n",
        "# Drop rows with missing reviews\n",
        "merged = merged.dropna(subset=['rating'])\n",
        "\n",
        "# Group the merged dataframe by recipe and calculate the number of reviews\n",
        "review_count = merged.groupby(['id', 'name'])['rating'].count().reset_index()\n",
        "\n",
        "# Rename the 'rating' column to 'review_count'\n",
        "review_count = review_count.rename(columns={'rating': 'review_count'})\n",
        "\n",
        "# Save the results of task 5.1 to a sheet called 'Recipes with grades'\n",
        "with pd.ExcelWriter('recipes_and_review_scores.xlsx') as writer:\n",
        "    merged[['id', 'name', 'user_id', 'rating']].to_excel(writer, sheet_name='Recipes with grades', index=False)\n",
        "\n",
        "# Save the results of task 5.2 to a sheet called 'Number of reviews on recipes'\n",
        "with pd.ExcelWriter('recipes_and_review_scores.xlsx', mode='a') as writer:\n",
        "    review_count[['id', 'name', 'review_count']].to_excel(writer, sheet_name='Number of reviews on recipes', index=False)"
      ]
    }
  ],
  "metadata": {
    "kernelspec": {
      "display_name": "Python 3.10.1 64-bit",
      "language": "python",
      "name": "python3"
    },
    "language_info": {
      "codemirror_mode": {
        "name": "ipython",
        "version": 3
      },
      "file_extension": ".py",
      "mimetype": "text/x-python",
      "name": "python",
      "nbconvert_exporter": "python",
      "pygments_lexer": "ipython3",
      "version": "3.10.1"
    },
    "vscode": {
      "interpreter": {
        "hash": "bbc3c3d932324566a9bf4b4a52ddf64063695fc3adbf25b3fda92572428493bb"
      }
    },
    "colab": {
      "provenance": []
    }
  },
  "nbformat": 4,
  "nbformat_minor": 0
}